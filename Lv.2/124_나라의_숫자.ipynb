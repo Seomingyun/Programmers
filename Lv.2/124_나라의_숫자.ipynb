{
  "nbformat": 4,
  "nbformat_minor": 0,
  "metadata": {
    "colab": {
      "name": "124 나라의 숫자.ipynb",
      "provenance": [],
      "authorship_tag": "ABX9TyM7ceCfwexDnFawseypwpCV"
    },
    "kernelspec": {
      "name": "python3",
      "display_name": "Python 3"
    },
    "language_info": {
      "name": "python"
    }
  },
  "cells": [
    {
      "cell_type": "markdown",
      "metadata": {
        "id": "AiMWuFdBaz7G"
      },
      "source": [
        "# 난 바보 ...\n",
        "거의 다 풀어놓고 .. 구현을 어케 하눙!! 하고 블로그를 찾아보아 버렸다 ..<br>\n",
        "이거 그냥 변형된 3진법이라고 생각하고 그냥 3진법이나 2진법 계산하듯이 구현하면 되는데 .. 흑 <br>\n",
        "그래도 포인트인 .. 3의 배수면 1을 빼야한다는걸 생각해낸거에 만족해야겠다 ..\n",
        "<br><br>\n"
      ]
    },
    {
      "cell_type": "code",
      "metadata": {
        "id": "U5jtnwOe0_II"
      },
      "source": [
        "def solution(n):\n",
        "    answer = ''\n",
        "    temp = ['4', '1', '2']\n",
        "    while n > 0:\n",
        "        answer = temp[n % 3] + answer\n",
        "        if (n%3 == 0):\n",
        "            n = n//3 -1\n",
        "        else:\n",
        "            n=n//3\n",
        "    return answer"
      ],
      "execution_count": null,
      "outputs": []
    }
  ]
}
