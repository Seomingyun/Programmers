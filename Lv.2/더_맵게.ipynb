{
  "nbformat": 4,
  "nbformat_minor": 0,
  "metadata": {
    "colab": {
      "name": "더 맵게.ipynb",
      "provenance": [],
      "authorship_tag": "ABX9TyNrZhbHeq5+Bt1C0RVKBN4I"
    },
    "kernelspec": {
      "name": "python3",
      "display_name": "Python 3"
    },
    "language_info": {
      "name": "python"
    }
  },
  "cells": [
    {
      "cell_type": "markdown",
      "metadata": {
        "id": "gkiJ6KlG1DbZ"
      },
      "source": [
        "# 틀림(효율성 0)\n",
        "매번 loop를 돌 때마다 sort()를 해준게 원인인 듯 하다.<br>\n",
        "그래서 .. 내가 직접 sort 함수를 만들어 보기도 했는데, 그래도 시간 초과가 떳다.<br>\n",
        "\n",
        "# try-except\n",
        "나는 지금까지 if문으로 엄청 복잡하게 예외 처리를 해왔었는데,, indexerror를 예외처리 해주는 간단한 구조가 있었다!!\n",
        "<br>\n",
        "바로..try-except..\n",
        "<br>난 이걸 생각해내지 못했는데 시간 초과에 대해서 찾아보다가 발견한 코드에서 try-except를 쓰는 걸 보고 바로 적용시켜 보았다..\n",
        "<br> 아주 멋진 구조 ...\n",
        "<br><br>"
      ]
    },
    {
      "cell_type": "code",
      "metadata": {
        "id": "U5jtnwOe0_II"
      },
      "source": [
        "def solution(scoville, K):\n",
        "    answer = 0\n",
        "\n",
        "    scoville.sort()\n",
        "    while scoville[0] < K:\n",
        "        try:\n",
        "            new_sco = scoville.pop(0) + scoville.pop(0)*2\n",
        "            scoville.insert(0, new_sco)  \n",
        "            scoville.sort()\n",
        "\n",
        "        except IndexError:\n",
        "            return -1\n",
        "        \n",
        "        answer += 1\n",
        "        \n",
        "    return answer"
      ],
      "execution_count": null,
      "outputs": []
    },
    {
      "cell_type": "markdown",
      "metadata": {
        "id": "gX5qeFVPh6I6"
      },
      "source": [
        "# 수정한 코드\n",
        "heapq 라는 것을 사용했다.<br>\n",
        "push하거나 pop 할 때마다 자동으로 정렬을 해주는 구조체이다.<br>\n",
        "heap을 자동으로 구현해주는 라이브러리 인 듯 하다. 아마 그냥 sort() 같은 정렬보다는 heap 알고리즘에 따르는 정렬이겠지!!\n",
        "<Br><br>"
      ]
    },
    {
      "cell_type": "code",
      "metadata": {
        "id": "UqnIvJGeh59o"
      },
      "source": [
        "import heapq\n",
        "\n",
        "def solution(scoville, K):\n",
        "    answer = 0\n",
        "    hq = []\n",
        "    for i in scoville:\n",
        "        heapq.heappush(hq, i)\n",
        "        \n",
        "    while hq[0] < K:\n",
        "        try:\n",
        "            heapq.heappush(hq, heapq.heappop(hq) + heapq.heappop(hq)*2)\n",
        "        except IndexError:\n",
        "            return -1\n",
        "        \n",
        "        answer += 1\n",
        "\n",
        "    return answer"
      ],
      "execution_count": null,
      "outputs": []
    }
  ]
}