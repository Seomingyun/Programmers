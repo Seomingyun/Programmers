{
  "nbformat": 4,
  "nbformat_minor": 0,
  "metadata": {
    "colab": {
      "name": "캐시.ipynb",
      "provenance": [],
      "authorship_tag": "ABX9TyN6vmRmmrwaWA4SYKqdRnY3"
    },
    "kernelspec": {
      "name": "python3",
      "display_name": "Python 3"
    },
    "language_info": {
      "name": "python"
    }
  },
  "cells": [
    {
      "cell_type": "markdown",
      "metadata": {
        "id": "g40Nd_KpD5HF"
      },
      "source": [
        "# 기분 안좋은 문제!!\n",
        "뭔가 .. 되게 얼레벌레 짠 코드인데 다 맞아서 불안한 .. 그런 문제다.<br>\n",
        "분명 더 잘 푸는 방식이 있을 것이다 .......!!...\n",
        "\n",
        "# 실수 포인트\n",
        "주어진 테스트케이스들 중에 cachesize가 0인 경우가 있었다. 왜 list가 비었다는 에러가 뜨나 했더니 .. 이게 범인!!<br>\n",
        "그래서 맨 앞에서 예외 처리 해주었다!\n",
        "<br>\n",
        "<br>\n",
        "<br>"
      ]
    },
    {
      "cell_type": "code",
      "metadata": {
        "id": "QWYfYbPZD7hG"
      },
      "source": [
        "def solution(cacheSize, cities):\n",
        "    if cacheSize == 0:\n",
        "        return 5 * len(cities)\n",
        "    \n",
        "    answer = 0\n",
        "    cache = [\"\" for i in range(cacheSize)]\n",
        "    lru = [1000 for i in range(cacheSize)]\n",
        "    lower_cities = [i.lower() for i in cities]\n",
        "    \n",
        "    for city in lower_cities:\n",
        "        if city in cache:\n",
        "            answer += 1\n",
        "            cache, lru = set_lru(city, cache, lru)\n",
        "        else:\n",
        "            answer += 5\n",
        "            out = lru.index(max(lru)) # lru에서 최댓값을 갖는 값의 인덱스 찾기\n",
        "            cache[out] = city # lru에서 최솟값을 같는 캐시 자리 도시 업데이트\n",
        "            cache, lru = set_lru(city, cache, lru)\n",
        "            \n",
        "    return answer\n",
        "\n",
        "def set_lru(city, cache, lru):\n",
        "    for i in range(len(cache)):\n",
        "        if cache[i] == city:\n",
        "            lru[i] = 1\n",
        "        else:\n",
        "            lru[i] += 1\n",
        "        \n",
        "    return cache, lru"
      ],
      "execution_count": null,
      "outputs": []
    }
  ]
}
