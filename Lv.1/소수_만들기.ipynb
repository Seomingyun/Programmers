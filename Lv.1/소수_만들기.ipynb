{
  "nbformat": 4,
  "nbformat_minor": 0,
  "metadata": {
    "colab": {
      "name": "소수 만들기.ipynb",
      "provenance": [],
      "authorship_tag": "ABX9TyOg76xHl5xXFRBYLLF0d/S2",
      "include_colab_link": true
    },
    "kernelspec": {
      "name": "python3",
      "display_name": "Python 3"
    },
    "language_info": {
      "name": "python"
    }
  },
  "cells": [
    {
      "cell_type": "markdown",
      "metadata": {
        "id": "view-in-github",
        "colab_type": "text"
      },
      "source": [
        "<a href=\"https://colab.research.google.com/github/Seomingyun/Programmers/blob/main/%EC%86%8C%EC%88%98_%EB%A7%8C%EB%93%A4%EA%B8%B0.ipynb\" target=\"_parent\"><img src=\"https://colab.research.google.com/assets/colab-badge.svg\" alt=\"Open In Colab\"/></a>"
      ]
    },
    {
      "cell_type": "markdown",
      "metadata": {
        "id": "wZTW2etpJws4"
      },
      "source": [
        "## 소수 판정 알고리즘\n",
        "2부터 x의 제곱근까지의 모든 수를 확인하면서 x가 해당 수로 나누어 떨어지는지 확인.<br>\n",
        "만약 나누어 떨어진다면 소수가 아니고, 끝까지 나누어떨어지지 않는다면 소수임.\n",
        "\n",
        "## 조합(combination)\n",
        "조합은 순서를 고려하지 않고 n개의 수를 뽑는 것.\n",
        "itertools의 combinations 함수를 사용하면 편함."
      ]
    },
    {
      "cell_type": "code",
      "metadata": {
        "id": "QWYfYbPZD7hG"
      },
      "source": [
        "import itertools\n",
        "import math\n",
        "\n",
        "def is_prime(x):\n",
        "    for i in range(2, int(math.sqrt(x))+1):\n",
        "        if x%i == 0:\n",
        "            return False\n",
        "    return True\n",
        "    \n",
        "def solution(nums):\n",
        "    answer = 0\n",
        "    combi = itertools.combinations(nums, 3)\n",
        "    for nums in combi:\n",
        "        if is_prime(nums[0]+nums[1]+nums[2]):\n",
        "            answer += 1\n",
        "\n",
        "    return answer"
      ],
      "execution_count": null,
      "outputs": []
    }
  ]
}
