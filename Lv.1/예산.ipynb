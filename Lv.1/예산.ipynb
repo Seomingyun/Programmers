{
  "nbformat": 4,
  "nbformat_minor": 0,
  "metadata": {
    "colab": {
      "name": "예산.ipynb",
      "provenance": [],
      "authorship_tag": "ABX9TyPw7vCwpKzpYFz85jy17bK5"
    },
    "kernelspec": {
      "name": "python3",
      "display_name": "Python 3"
    },
    "language_info": {
      "name": "python"
    }
  },
  "cells": [
    {
      "cell_type": "markdown",
      "metadata": {
        "id": "g40Nd_KpD5HF"
      },
      "source": [
        "# 기분 좋은 문제!!\n",
        "비슷한 문제를 풀어본 적이 있어서 쇽쇽 풀었다 ㅎㅎ <br>\n",
        "이런 문제를 뭐라구 하지 ?? 그리디 ? 스케쥴링 ? \n"
      ]
    },
    {
      "cell_type": "code",
      "metadata": {
        "id": "QWYfYbPZD7hG"
      },
      "source": [
        "def solution(d, budget):\n",
        "    answer = 0\n",
        "    d.sort()\n",
        "    \n",
        "    for i in d:\n",
        "        if budget - i < 0:\n",
        "            break\n",
        "        else:\n",
        "            budget -= i\n",
        "            answer += 1\n",
        "    return answer"
      ],
      "execution_count": null,
      "outputs": []
    }
  ]
}
