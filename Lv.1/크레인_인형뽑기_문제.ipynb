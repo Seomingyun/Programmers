{
  "nbformat": 4,
  "nbformat_minor": 0,
  "metadata": {
    "colab": {
      "name": "크레인 인형뽑기 문제.ipynb",
      "provenance": [],
      "collapsed_sections": [],
      "authorship_tag": "ABX9TyNeNqz3B7BqfN7galwgutzl"
    },
    "kernelspec": {
      "name": "python3",
      "display_name": "Python 3"
    },
    "language_info": {
      "name": "python"
    }
  },
  "cells": [
    {
      "cell_type": "markdown",
      "metadata": {
        "id": "g40Nd_KpD5HF"
      },
      "source": [
        "# 실수 포인트\n",
        "문제의 답이 나는 바구니에 남아 있는 인형의 개수라고 생각했었는데 지워진 인형의 개수였다!!! 문제를 꼼꼼하게 읽는 습관을 들이자 ㅎㅅㅎ\n",
        "\n",
        "# python에서의 stack\n",
        "난 지금까지 주로 c++을 이용해서 알고리즘 문제를 풀어왔었는데, C++에는 stack이라는 자료형이 따로 있었다.<br> 그래서 당연히 python도 있을거라고 막연히 생각했었는데, 그렇지 않았다!! <br>따로 stack은 없고 그냥 list를 이용했어야 했다. pop 메소드가 유용하게 잘 쓰인 것 같다.\n",
        "<br>\n",
        "<br>\n",
        "<br>"
      ]
    },
    {
      "cell_type": "code",
      "metadata": {
        "id": "QWYfYbPZD7hG"
      },
      "source": [
        "def solution(board, moves):\n",
        "    bucket = [0]\n",
        "    answer = 0\n",
        "    for move in moves:\n",
        "        for i in range(0, len(board[0])):\n",
        "            if board[i][move-1] == 0:\n",
        "                continue\n",
        "            else:\n",
        "                if bucket[-1] == board[i][move-1]:\n",
        "                    bucket.pop()\n",
        "                    answer += 2\n",
        "                else: \n",
        "                    bucket.append(board[i][move-1])\n",
        "\n",
        "                board[i][move-1] = 0\n",
        "                break\n",
        "    return answer"
      ],
      "execution_count": null,
      "outputs": []
    }
  ]
}
