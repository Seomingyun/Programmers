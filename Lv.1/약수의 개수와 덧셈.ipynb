{
  "nbformat": 4,
  "nbformat_minor": 0,
  "metadata": {
    "colab": {
      "name": "더 맵게.ipynb",
      "provenance": [],
      "authorship_tag": "ABX9TyOG78H0Ti46NhWr7BE9f7Gx"
    },
    "kernelspec": {
      "name": "python3",
      "display_name": "Python 3"
    },
    "language_info": {
      "name": "python"
    }
  },
  "cells": [
    {
      "cell_type": "markdown",
      "metadata": {
        "id": "gkiJ6KlG1DbZ"
      },
      "source": [
        "# 내 아이디어\n",
        "처음에는 약수의 개수를 세는 함수를 만들고 있었다. <br>\n",
        "그때 함수의 알고리즘이 1부터 해당 수의 제곱근까지 다 나누어 봐서, 나눠지면 약수의 개수를 2 증가시키고(약수는 항상 세트로 존재한다), 만약 마지막 수인 해당 수의 제곱근이 1로 나누어 떨어진다면 1을 빼주는 것이었다.<br><br>\n",
        "\n",
        "(ex) 숫자가 25라면 <br>\n",
        "25를 1, 2, 3, 4, 5(25의 제곱근) 까지 나누어 본다.<br>\n",
        "이때 1, 5가 25와 나누어 떨어지므로 약수의 개수는 2*2로 4개인데, 마지막 5가 1로 나누어 떨어지므로, 5x5=25라는 걸 알 수 있다.<br> \n",
        "즉, 5의 세트는 5이므로!!(제곱근이 소수가 아니라 딱 나눠 떨어지니까 제곱근 * 제곱근 하면 제곱근 취하기 전 숫자임) 개수에서 1을 빼준다. \n",
        "<br><br>\n",
        "근데 이 알고리즘을 생각하다 보니 그냥 제곱근이 1로 나누어 떨어지면 1을 빼주니까 홀수 개고, 제곱근이 1로 안나누어 떨어지면 2를 계속 더해주니까 짝수 개라는걸 깨달았다!!\n",
        "<br>\n",
        "그래서 아래와 같이 간단하게 코드를 짜보았다.\n"
      ]
    },
    {
      "cell_type": "code",
      "metadata": {
        "id": "U5jtnwOe0_II"
      },
      "source": [
        "def solution(left, right):\n",
        "    answer = 0\n",
        "    for i in range(left, right+1):\n",
        "        if i**0.5 % 1 == 0:\n",
        "            answer -= i\n",
        "        else:\n",
        "            answer += i\n",
        "    return answer"
      ],
      "execution_count": null,
      "outputs": []
    }
  ]
}