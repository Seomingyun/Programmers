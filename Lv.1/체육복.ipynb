{
  "nbformat": 4,
  "nbformat_minor": 0,
  "metadata": {
    "colab": {
      "name": "체육복.ipynb",
      "provenance": [],
      "authorship_tag": "ABX9TyNwLFVjK+aXjOTopkxVWfar"
    },
    "kernelspec": {
      "name": "python3",
      "display_name": "Python 3"
    },
    "language_info": {
      "name": "python"
    }
  },
  "cells": [
    {
      "cell_type": "markdown",
      "metadata": {
        "id": "wZTW2etpJws4"
      },
      "source": [
        "## 주의할 점\n",
        "\"여벌 체육복을 가져온 학생이 체육복을 도난당했을 수 있습니다. 이때 이 학생은 체육복을 하나만 도난당했다고 가정하며, 남은 체육복이 하나이기에 다른 학생에게는 체육복을 빌려줄 수 없습니다.\"\n",
        "<br>\n",
        "<br>\n",
        "이 문장을 못 보고 문제를 풀었더니 .. 아주 많이 틀렸었다..!!\n",
        "<br>\n",
        "그래서 for문을 하나 더 추가해줘서 lost랑 reverse 둘 다 있는 사람은 없어지게 만들었다.\n"
      ]
    },
    {
      "cell_type": "code",
      "metadata": {
        "id": "QWYfYbPZD7hG"
      },
      "source": [
        "def solution(n, lost, reserve):\n",
        "    answer = n-len(lost)\n",
        "    temp = []\n",
        "    \n",
        "    for l in lost:\n",
        "        if l in reserve:\n",
        "            answer = answer+1\n",
        "            reserve.remove(l)\n",
        "            temp.append(l)\n",
        "    \n",
        "    lost2 = [x for x in lost if x not in temp]\n",
        "    \n",
        "    for l in lost2:\n",
        "        print(l)\n",
        "        if l-1 in reserve:\n",
        "            answer = answer+1\n",
        "            reserve.remove(l-1)\n",
        "        elif l+1 in reserve:\n",
        "            answer = answer+1\n",
        "            reserve.remove(l+1)\n",
        "            \n",
        "    return answer"
      ],
      "execution_count": null,
      "outputs": []
    }
  ]
}
