{
  "nbformat": 4,
  "nbformat_minor": 0,
  "metadata": {
    "colab": {
      "name": "모의고사.ipynb",
      "provenance": [],
      "authorship_tag": "ABX9TyPs9sDP3oMT3kijPyAsZ0xY",
      "include_colab_link": true
    },
    "kernelspec": {
      "name": "python3",
      "display_name": "Python 3"
    },
    "language_info": {
      "name": "python"
    }
  },
  "cells": [
    {
      "cell_type": "markdown",
      "metadata": {
        "id": "view-in-github",
        "colab_type": "text"
      },
      "source": [
        "<a href=\"https://colab.research.google.com/github/Seomingyun/Programmers/blob/main/%EB%AA%A8%EC%9D%98%EA%B3%A0%EC%82%AC.ipynb\" target=\"_parent\"><img src=\"https://colab.research.google.com/assets/colab-badge.svg\" alt=\"Open In Colab\"/></a>"
      ]
    },
    {
      "cell_type": "code",
      "metadata": {
        "id": "QWYfYbPZD7hG"
      },
      "source": [
        "def solution(answers):\n",
        "    math1 = [1, 2, 3, 4, 5]\n",
        "    math2 = [2, 1, 2, 3, 2, 4, 2, 5]\n",
        "    math3 = [3, 3, 1, 1, 2, 2, 4, 4, 5, 5]\n",
        "    temp = [0, 0, 0]\n",
        "    \n",
        "    for i, cnt in zip(answers, range(0, len(answers))):\n",
        "        if math1[cnt%5] == i:\n",
        "                      temp[0] += 1\n",
        "        if math2[cnt%8] == i:\n",
        "                      temp[1] += 1\n",
        "        if math3[cnt%10] == i:\n",
        "                      temp[2] += 1\n",
        "    answer = []    \n",
        "    for i, v in enumerate(temp):\n",
        "                      if v == max(temp):\n",
        "                        answer.append(i+1)\n",
        "\n",
        "    return answer"
      ],
      "execution_count": null,
      "outputs": []
    }
  ]
}
