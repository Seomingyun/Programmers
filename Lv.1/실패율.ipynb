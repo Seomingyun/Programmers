{
  "nbformat": 4,
  "nbformat_minor": 0,
  "metadata": {
    "colab": {
      "name": "실패율.ipynb",
      "provenance": [],
      "authorship_tag": "ABX9TyOU23VcLWaSJYd6AI45ERXA"
    },
    "kernelspec": {
      "name": "python3",
      "display_name": "Python 3"
    },
    "language_info": {
      "name": "python"
    }
  },
  "cells": [
    {
      "cell_type": "markdown",
      "metadata": {
        "id": "AiMWuFdBaz7G"
      },
      "source": [
        "# 맘에 안들음\n",
        "뭔가 굉장히 비효율적으로 푼 느낌\n"
      ]
    },
    {
      "cell_type": "code",
      "metadata": {
        "id": "U5jtnwOe0_II"
      },
      "source": [
        "def solution(N, stages):\n",
        "    answer = []\n",
        "    stop_s = [0 for x in range(N+1)]\n",
        "    all_s = [0 for x in range(N+1)]\n",
        "    \n",
        "    for i in stages:\n",
        "        if i != N+1:\n",
        "            stop_s[i]+=1\n",
        "        else:\n",
        "            i = N\n",
        "        for j in range(1, i+1):\n",
        "            all_s[j]+=1\n",
        "    \n",
        "    fail = [0 for x in range(N+1)]\n",
        "    fail[0] = -100000\n",
        "    for i in range(1, N+1):\n",
        "        if (all_s[i]==0):\n",
        "            fail[i] = 0\n",
        "        else:\n",
        "            fail[i] = stop_s[i]/all_s[i]\n",
        "        \n",
        "    for i in range(N):\n",
        "        idx = fail.index(max(fail))\n",
        "        answer.append(idx)\n",
        "        fail[idx] = -100000\n",
        "        \n",
        "    return answer"
      ],
      "execution_count": null,
      "outputs": []
    },
    {
      "cell_type": "markdown",
      "metadata": {
        "id": "kR7oA964E0p6"
      },
      "source": [
        "# 멋진 신박한 풀이..\n",
        "어떻게 len으로 처리할 생각을 했을까 ?? 역시 세상엔 똑똑한 사람이 많다. 이것도 공부해봐야지 .."
      ]
    },
    {
      "cell_type": "code",
      "metadata": {
        "id": "jRdw_FhAEvk7"
      },
      "source": [
        "def solution(N, stages):\n",
        "    fail = {}\n",
        "    for i in range(1,N+1):\n",
        "        try:\n",
        "            fail_ = len([a for a in stages if a==i])/len([a for a in stages if a>=i])\n",
        "        except:\n",
        "            fail_ = 0\n",
        "        fail[i]=fail_\n",
        "    answer = sorted(fail, key=fail.get, reverse=True)\n",
        "    return answer"
      ],
      "execution_count": null,
      "outputs": []
    }
  ]
}