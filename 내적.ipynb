{
  "nbformat": 4,
  "nbformat_minor": 0,
  "metadata": {
    "colab": {
      "name": "내적.ipynb",
      "provenance": [],
      "authorship_tag": "ABX9TyOdWlYLqJjCy9lSGFVHEUag"
    },
    "kernelspec": {
      "name": "python3",
      "display_name": "Python 3"
    },
    "language_info": {
      "name": "python"
    }
  },
  "cells": [
    {
      "cell_type": "code",
      "metadata": {
        "id": "U5jtnwOe0_II"
      },
      "source": [
        "def solution(a, b):\n",
        "    answer = 0\n",
        "    for i, j in zip(a, b):\n",
        "        answer += i*j  \n",
        "    return answer"
      ],
      "execution_count": null,
      "outputs": []
    }
  ]
}