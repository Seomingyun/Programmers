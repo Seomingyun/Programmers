{
  "nbformat": 4,
  "nbformat_minor": 0,
  "metadata": {
    "colab": {
      "name": "로또의 최고 순위와 최저 순위.ipynb",
      "provenance": [],
      "authorship_tag": "ABX9TyP9hEOCvbhU4yrYkdD5DRTg"
    },
    "kernelspec": {
      "name": "python3",
      "display_name": "Python 3"
    },
    "language_info": {
      "name": "python"
    }
  },
  "cells": [
    {
      "cell_type": "code",
      "metadata": {
        "id": "QWYfYbPZD7hG"
      },
      "source": [
        "def solution(lottos, win_nums):\n",
        "    answer = []\n",
        "    temp = list(set(lottos) - set(win_nums)) # lottos에는 있지만, win_nums에는 없는 숫자들(0포함)\n",
        "    temp2 = list(set(win_nums) - set(lottos)) # win_nums에는 있지만, lottos에는 없는 숫자들\n",
        "    temp3 = [x for x in lottos if x in win_nums]\n",
        "\n",
        "    worst = cal_rank(len(temp3))\n",
        "    \n",
        "    if 0 in temp:\n",
        "        best = cal_rank(len(temp2)-(len(temp)-1) + len(temp3))\n",
        "    else:\n",
        "        best = worst\n",
        "\n",
        "    answer.append(best)\n",
        "    answer.append(worst)\n",
        "    return answer\n",
        "\n",
        "def cal_rank(num):\n",
        "    if num == 1 or num == 0:\n",
        "        return 6\n",
        "    else:\n",
        "        return 7-num"
      ],
      "execution_count": null,
      "outputs": []
    }
  ]
}