{
  "nbformat": 4,
  "nbformat_minor": 0,
  "metadata": {
    "colab": {
      "name": "완주하지 못한 선수.ipynb",
      "provenance": [],
      "authorship_tag": "ABX9TyNz/eiryy64Liv+8d4sLRto"
    },
    "kernelspec": {
      "name": "python3",
      "display_name": "Python 3"
    },
    "language_info": {
      "name": "python"
    }
  },
  "cells": [
    {
      "cell_type": "markdown",
      "metadata": {
        "id": "wZTW2etpJws4"
      },
      "source": [
        "## temp 함수\n",
        "처음에 짠 함수이다. 그냥 되는데로 짰는데 글쎄 .. 효율성 점수가 0점이 나왔다..!!\n",
        "\n",
        "## solution 함수\n",
        "그래서 초큼 고민하다가 짜버린 새로운 코드 !! 효율성이 통과 되었다 ㅎㅎ\n",
        "<br>처음에 짠 함수는 remove도 2번이나 하고, for문도 돌고, 또 그안에서 if 문도 돌고..<br>\n",
        "이것저것 많이 해서 효율성 0점이 나온 듯 하다."
      ]
    },
    {
      "cell_type": "code",
      "metadata": {
        "id": "QWYfYbPZD7hG"
      },
      "source": [
        "def temp(participant, completion):\n",
        "    ans = participant[:]\n",
        "    for p in participant:\n",
        "        if p in completion:\n",
        "            ans.remove(p)\n",
        "            completion.remove(p)\n",
        "    return ans[0]\n",
        "\n",
        "def solution(participant, completion):\n",
        "    participant.sort()\n",
        "    completion.sort()\n",
        "    \n",
        "    for p, c in zip(participant, completion):\n",
        "        if p != c:\n",
        "            return p\n",
        "    return participant[-1]"
      ],
      "execution_count": null,
      "outputs": []
    }
  ]
}