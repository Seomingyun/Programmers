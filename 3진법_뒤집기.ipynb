{
  "nbformat": 4,
  "nbformat_minor": 0,
  "metadata": {
    "colab": {
      "name": "3진법 뒤집기.ipynb",
      "provenance": [],
      "authorship_tag": "ABX9TyPeFqX52cQA9BSMm3IBwyTH"
    },
    "kernelspec": {
      "name": "python3",
      "display_name": "Python 3"
    },
    "language_info": {
      "name": "python"
    }
  },
  "cells": [
    {
      "cell_type": "markdown",
      "metadata": {
        "id": "g40Nd_KpD5HF"
      },
      "source": [
        "# 헷갈렸던 점\n",
        "while문에서 조건문을 어떻게 넣어야 할지 너무 헷갈렸다. n>=0을 처음에는 하려고 했었는데 생각해뵌 n>=0은 항상 참이라는 것을 깨달았다!!! <br>\n",
        "while문을 탈출하게 될 때에는 divmod로 더이상 n을 나눠줄 것이 없을 때니까, n이 0일때 탈출하는 것이 맞다고 생각했다.\n",
        "\n",
        "# divmod\n",
        "divmod(n, b) : 두 숫자를 나누어 몫과 나머지를 튜플 형태로 반환한다.\n",
        "\n",
        "# int\n",
        "int(n, b) : b진법의 n을(n은 보통 str) 10진법의 숫자로 나타낸다.\n"
      ]
    },
    {
      "cell_type": "code",
      "metadata": {
        "id": "QWYfYbPZD7hG"
      },
      "source": [
        "def solution(n):\n",
        "    answer = ''\n",
        "    while n>=1: # n은 몫! n이 0이 되면 다 나뉘어진것\n",
        "        n, r = divmod(n, 3)\n",
        "        answer += str(r)\n",
        "    \n",
        "    answer = int(answer, 3)\n",
        "    return answer\n"
      ],
      "execution_count": null,
      "outputs": []
    }
  ]
}