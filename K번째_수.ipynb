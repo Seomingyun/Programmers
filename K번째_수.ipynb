{
  "nbformat": 4,
  "nbformat_minor": 0,
  "metadata": {
    "colab": {
      "name": "K번째 수.ipynb",
      "provenance": [],
      "authorship_tag": "ABX9TyOucw6euiLejGzRRGFiRQjF"
    },
    "kernelspec": {
      "name": "python3",
      "display_name": "Python 3"
    },
    "language_info": {
      "name": "python"
    }
  },
  "cells": [
    {
      "cell_type": "markdown",
      "metadata": {
        "id": "wZTW2etpJws4"
      },
      "source": [
        "## 생각해볼 점\n",
        "정렬 문제였다.\n",
        "그냥 단순하게 python에 있는 sort 메소드를 이용했지만 .. 이게 맞는걸까 ?!<br>\n",
        "시간 복잡도 제한이 심한 문제가 있으면 이 sort 메소드를 이용하지 않는 것이 맞을 것 같다.<br>\n",
        "다른 정렬 문제를 풀어보거나 정렬 관련 알고리즘을 정리해 봐야 할 것 같음.\n"
      ]
    },
    {
      "cell_type": "code",
      "metadata": {
        "id": "QWYfYbPZD7hG"
      },
      "source": [
        "def solution(array, commands):\n",
        "    answer = []\n",
        "    for i in commands:\n",
        "        temp = array[i[0]-1:i[1]]\n",
        "        temp.sort()\n",
        "        print(temp)\n",
        "        answer.append(temp[i[2]-1])\n",
        "    return answer"
      ],
      "execution_count": null,
      "outputs": []
    }
  ]
}