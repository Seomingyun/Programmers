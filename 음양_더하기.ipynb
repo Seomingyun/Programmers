{
  "nbformat": 4,
  "nbformat_minor": 0,
  "metadata": {
    "colab": {
      "name": "음양 더하기.ipynb",
      "provenance": [],
      "authorship_tag": "ABX9TyOvu3whXZj5uy7VfO+/8WSQ"
    },
    "kernelspec": {
      "name": "python3",
      "display_name": "Python 3"
    },
    "language_info": {
      "name": "python"
    }
  },
  "cells": [
    {
      "cell_type": "code",
      "metadata": {
        "id": "U5jtnwOe0_II"
      },
      "source": [
        "def solution(absolutes, signs):\n",
        "    answer = 0\n",
        "    for i, j in zip(absolutes, signs):\n",
        "        if j: #true: 참\n",
        "            answer += i\n",
        "        else:\n",
        "            answer -= i\n",
        "    return answer"
      ],
      "execution_count": null,
      "outputs": []
    }
  ]
}