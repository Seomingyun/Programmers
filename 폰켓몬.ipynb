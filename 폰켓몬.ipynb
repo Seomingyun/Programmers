{
  "nbformat": 4,
  "nbformat_minor": 0,
  "metadata": {
    "colab": {
      "name": "폰켓몬.ipynb",
      "provenance": [],
      "authorship_tag": "ABX9TyMl5bnmn+x40Ef8b2bmtKPO"
    },
    "kernelspec": {
      "name": "python3",
      "display_name": "Python 3"
    },
    "language_info": {
      "name": "python"
    }
  },
  "cells": [
    {
      "cell_type": "markdown",
      "metadata": {
        "id": "gkiJ6KlG1DbZ"
      },
      "source": [
        "# 문제 풀이 포인트\n",
        "set을 사용하여 nums list의 중복 요소들을 제거해 주었다.\n",
        "<br><br>"
      ]
    },
    {
      "cell_type": "code",
      "metadata": {
        "id": "U5jtnwOe0_II"
      },
      "source": [
        "def solution(nums):\n",
        "    nums_set = list(set(nums))\n",
        "    if len(nums_set) >= len(nums)/2:\n",
        "        return len(nums)/2\n",
        "    else:\n",
        "        return len(nums_set)"
      ],
      "execution_count": null,
      "outputs": []
    },
    {
      "cell_type": "markdown",
      "metadata": {
        "id": "iDJ4tDGQ1TiA"
      },
      "source": [
        "# 다른 사람의 멋진 풀이..\n",
        "내가 5줄이나 쓴 코드를 .. 이분은 1줄만 써버렸다!!!!!! 아주 멋진 .. 코드 ..<br>\n",
        "왜 min을 쓸 생각을 못했을까 난 바보야!!\n",
        "<Br><Br>"
      ]
    },
    {
      "cell_type": "code",
      "metadata": {
        "id": "DgokCsD-1RJq"
      },
      "source": [
        "def solution(ls):\n",
        "    return min(len(ls)/2, len(set(ls)))"
      ],
      "execution_count": null,
      "outputs": []
    }
  ]
}